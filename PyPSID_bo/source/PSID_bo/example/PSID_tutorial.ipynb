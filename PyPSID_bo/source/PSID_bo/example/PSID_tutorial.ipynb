{
 "cells": [
  {
   "cell_type": "markdown",
   "metadata": {
    "id": "isXmUBaxJanB"
   },
   "source": [
    "Written by: Omid G. Sani  \n",
    "Last update: Apr 29, 2021"
   ]
  },
  {
   "cell_type": "markdown",
   "metadata": {
    "id": "0pXbrXQPKQRF"
   },
   "source": [
    "# What is PSID?\n",
    "\n",
    "PSID stands for preferential subspace identification, a method for dynamic modeling of time-series data, while prioritizing the dynamics shared with another time-series. \n",
    "\n",
    "For example, given signals $y_k$ (e.g. neural signals) and $z_k$ (e.g behavior), PSID learns a dynamic model for $y_k$ while prioritizing the dynamics that are relevant to $z_k$.\n",
    "\n",
    "For the derivation and results in real neural data see the paper below.\n",
    "\n",
    "**Publication:**\n",
    "\n",
    "Omid G. Sani, Hamidreza Abbaspourazad, Yan T. Wong, Bijan Pesaran, Maryam M. Shanechi. *Modeling behaviorally relevant neural dynamics enabled by preferential subspace identification*. Nature Neuroscience 24, 140–149 (2021). https://doi.org/10.1038/s41593-020-00733-0\n",
    "\n",
    "View-only full-text link: https://rdcu.be/b993t\n",
    "\n",
    "Original preprint: https://doi.org/10.1101/808154\n",
    "\n",
    "You can also find a summary of the paper in the following Twitter thread: https://twitter.com/MaryamShanechi/status/1325835609345122304"
   ]
  },
  {
   "cell_type": "markdown",
   "metadata": {
    "id": "BSlPMSM5Ai3P"
   },
   "source": [
    "# Installing PSID\n",
    "To use PSID, you can either get the source code from [the PSID Github repository](https://github.com/ShanechiLab/PSID), or install it in your Python environment using pip:\n",
    "\n",
    "\n",
    "```\n",
    "pip install PSID\n",
    "```\n",
    "\n",
    "You can find the usage license in [LICENSE.md](https://github.com/ShanechiLab/PyPSID/blob/main/LICENSE.md). For this notebook, we will also start by installing PSID from pip."
   ]
  },
  {
   "cell_type": "code",
   "execution_count": 11,
   "metadata": {
    "colab": {
     "base_uri": "https://localhost:8080/"
    },
    "id": "DZFHrfUEAYmC",
    "outputId": "2c807175-d8ba-4c0f-f75e-cc191c653876"
   },
   "outputs": [
    {
     "name": "stdout",
     "output_type": "stream",
     "text": [
      "Requirement already satisfied: PSID in /disk_c/cole/miniconda3/envs/pytorch3d_update/lib/python3.8/site-packages/PSID-1.0.6-py3.8.egg (1.0.6)\n",
      "Collecting PSID\n",
      "  Using cached PSID-1.1.0-py3-none-any.whl (19 kB)\n",
      "Installing collected packages: PSID\n",
      "  Attempting uninstall: PSID\n",
      "    Found existing installation: PSID 1.0.6\n",
      "    Uninstalling PSID-1.0.6:\n",
      "^C\n",
      "\u001b[31mERROR: Operation cancelled by user\u001b[0m\n",
      "\u001b[33mWARNING: You are using pip version 21.1.1; however, version 21.1.3 is available.\n",
      "You should consider upgrading via the '/disk_c/cole/miniconda3/envs/pytorch3d_update/bin/python -m pip install --upgrade pip' command.\u001b[0m\n"
     ]
    }
   ],
   "source": [
    "!pip install PSID --upgrade"
   ]
  },
  {
   "cell_type": "markdown",
   "metadata": {
    "id": "KsDpingpAhpK"
   },
   "source": [
    "# Using PSID\n",
    "## Modeling data\n",
    "To use PSID, you first need to import the library by running:\n",
    "```\n",
    "import PSID\n",
    "```\n",
    "You can then use its main data modeling function as:\n",
    "```\n",
    "idSys = PSID.PSID(y, z, nx, n1, i);\n",
    "```\n",
    "With the following arguments:\n",
    "- `y` and `z`: Neural (e.g. LFP signal powers or spike counts) and behavioral data (e.g. joint angles, hand position, etc), respectively. Dimensions are: time x data dimension (this can be changed with an optional argument documented in the code).\n",
    "- `nx`: the total dimension of the latent state in the model.\n",
    "- `n1`: the number of latent state dimensions that are going to be dedicated to behaviorally relevant neural dynamics.\n",
    "- `i`: the subspace horizon used for modeling. There is more on the choice of `i` later in this notebook, but numbers such as 5 or 10 are typically suitable values for `i`.\n",
    "\n",
    "And the following output:\n",
    "- `idSys`: an object containing all the learned model parameters ($A$, $C_y$, $C_z$, etc) and some prediction, etc methods. There is more on the model structure later in this notebook.\n",
    "\n",
    "## Using the model for dimension reduction, state estimation, and decoding\n",
    "For a learned PSID model `idSys`, you can use the `predict` method to extract the latent state and predict behavior and neural activity given any new neural data as:\n",
    "```\n",
    "zPred, yPred, xPred = idSys.predict(yTest)\n",
    "```\n",
    "With the argument:\n",
    "- `yTest`: Neural activity `y` in the test data. Dimensions are: time x data dimension.\n",
    "\n",
    "And outputs (all dimensions are time x data dimension):\n",
    "- `zPred`: Prediction of behavior using past neural activity at each data point.\n",
    "- `yPred`: Prediction of neural activity using past neural activity at each data point.\n",
    "- `xPred`: The latent state extarcted at each data point.\n",
    "\n",
    "We will next go through a complete example of using PSID in data.\n",
    "\n",
    "# A complete example\n",
    "In this example, we will use PSID to model some data. First, we import PSID and a few other useful tools from PSID and other libraries."
   ]
  },
  {
   "cell_type": "code",
   "execution_count": 1,
   "metadata": {
    "id": "bcBhkYe_Bt22"
   },
   "outputs": [],
   "source": [
    "import argparse, sys, os\n",
    "sys.path.insert(0, os.path.join('..', '..'))\n",
    "\n",
    "import numpy as np\n",
    "np.set_printoptions(suppress=True)\n",
    "import matplotlib.pyplot as plt\n",
    "from matplotlib import patches\n",
    "\n",
    "import PSID\n",
    "from PSID.evaluation import evalPrediction\n",
    "from PSID.MatHelper import loadmat"
   ]
  },
  {
   "cell_type": "markdown",
   "metadata": {},
   "source": [
    "Let's start by loading an example model:"
   ]
  },
  {
   "cell_type": "code",
   "execution_count": 2,
   "metadata": {
    "colab": {
     "base_uri": "https://localhost:8080/"
    },
    "id": "2DSKNITZB4r-",
    "outputId": "a33507ed-9df3-4041-d227-06b0e6317125"
   },
   "outputs": [
    {
     "name": "stdout",
     "output_type": "stream",
     "text": [
      "Loading example model from ../../PSID/example/sample_model.mat\n"
     ]
    }
   ],
   "source": [
    "# Load data\n",
    "sample_model_path = os.path.join(os.path.dirname(PSID.__file__), 'example', 'sample_model.mat')\n",
    "                 \n",
    "print('Loading example model from {}'.format(sample_model_path))\n",
    "data = loadmat(sample_model_path)\n",
    "# This is an example model (shown in Supplementary Fig. 1) with \n",
    "# (a) 2 behaviorally relevant latent states, \n",
    "# (b) 2 behaviorally irrelevant latent states, and \n",
    "# (c) 2 states that drive behavior but are not represented in neural activity"
   ]
  },
  {
   "cell_type": "markdown",
   "metadata": {
    "id": "TKjZYzGV4Oya"
   },
   "source": [
    "The PSID model looks like this:\n",
    "\n",
    "$$ x_{k+1} = A x_k + w_k $$  \n",
    "\n",
    "$$ y_k = C_y x_k + v_k $$  \n",
    "\n",
    "$$ z_k = C_z x_k + \\epsilon_k $$  \n",
    "\n",
    "where $y_k \\in \\!R^{n_y}$ is the neural activity, $z_k \\in \\!R^{n_z}$ is the behavior, and $x_k \\in \\!R^{n_x}$ is the latent state the describes the dynamics in both. Note that in general $y_k$ and $z_k$ could also be any other two signals (e.g. brain activity from two regions or even non-neural signals), but here we will refer these signals as neural activity and behavior, respectively. Importantly, PSID learns the model in the following format\n",
    "\n",
    "$$\n",
    "x_k = \\begin{bmatrix}\n",
    "x_k^{(1)} \\\\\n",
    "x_k^{(2)}\n",
    "\\end{bmatrix}\n",
    "$$\n",
    "\n",
    "where the behaviorally relevant dimensions of latent state ($x_k^{(1)} \\in \\!R^{n_1}$), which are those that drive $z_k$, are separated from the other dimensions ($x_k^{(2)} \\in \\!R^{n_2}$ with $n_2=n_x-n_1$). There are many equivalent ways of writing a latent state model such as this one, but PSID learns the one that uses minimal number of dimensions to explain behavior as parsimoniously as possible (you can find the precise definition in the paper). Critically, PSID can learn this minimal model (with only $x_k^{(1)}$) without having to also learn the rest of the model (the $x_k^{(2)}$ part). This is the concept of prioritization and allows PSID to learn the model more accurately, while requiring fewer training samples.\n",
    "\n",
    "\n",
    "Before going further, let's generate some sample data from this model."
   ]
  },
  {
   "cell_type": "code",
   "execution_count": 3,
   "metadata": {
    "id": "-9bAIpLC4LaE"
   },
   "outputs": [],
   "source": [
    "# Generating some sample data from this model\r\n",
    "np.random.seed(42) # For exact reproducibility\r\n",
    "\r\n",
    "N = int(2e4)\r\n",
    "trueSys = PSID.LSSM(params=data['trueSys'])\r\n",
    "y, x = trueSys.generateRealization(N)\r\n",
    "z = (trueSys.Cz @ x.T).T\r\n",
    "\r\n",
    "# Add some z dynamics that are not encoded in y (i.e. epsilon)\r\n",
    "epsSys = PSID.LSSM(params=data['epsSys'])\r\n",
    "eps, _ = epsSys.generateRealization(N)\r\n",
    "z += eps\r\n",
    "\r\n",
    "allYData, allZData = y, z"
   ]
  },
  {
   "cell_type": "markdown",
   "metadata": {
    "id": "CQWYLQuwGWGY"
   },
   "source": [
    "Let's separate the data into training and test segments."
   ]
  },
  {
   "cell_type": "code",
   "execution_count": 4,
   "metadata": {
    "id": "eiefXAMyExUa"
   },
   "outputs": [],
   "source": [
    "# Separate data into training and test data:\r\n",
    "trainInds = np.arange(np.round(0.5*allYData.shape[0]), dtype=int)\r\n",
    "testInds = np.arange(1+trainInds[-1], allYData.shape[0])\r\n",
    "yTrain = allYData[trainInds, :]\r\n",
    "yTest = allYData[testInds, :]\r\n",
    "zTrain = allZData[trainInds, :]\r\n",
    "zTest = allZData[testInds, :]"
   ]
  },
  {
   "cell_type": "markdown",
   "metadata": {
    "id": "5_HZ9Xd_G7ew"
   },
   "source": [
    "We will next use PSID in two ways:  \n",
    "1. Learn a model with a low-dimensional latent state that only focuses on learning the behaviorally relevant neural dynamics (i.e. uses stage 1 of PSID only).  \n",
    "2. Learn a model that also learns other neural dynamics (i.e. uses both stages of PSID)\n",
    "\n",
    "We will then plot the learned models' eigenvalues (the eigenvalues of the $A$ matrix) to show that PSID learns the correct dynamics in each case.\n",
    "\n",
    "First, let's learn a model with a 2 dimensional latent state that only learns the behaviorally relevant neural dyanmics. For this, we pass the arguments nx=2 and n1=2 to the PSID function:"
   ]
  },
  {
   "cell_type": "code",
   "execution_count": 5,
   "metadata": {
    "colab": {
     "base_uri": "https://localhost:8080/"
    },
    "id": "KeAWDK3sGfmr",
    "outputId": "39967d6f-e864-4236-8c87-8af7dd489f1e"
   },
   "outputs": [],
   "source": [
    "## (Example 1) PSID can be used to dissociate and extract only the \n",
    "# behaviorally relevant latent states (with nx = n1 = 2)\n",
    "idSys1 = PSID.PSID(yTrain, zTrain, nx=2, n1=2, i=10)\n",
    "# You can also use the time_first=False argument if time is the second dimension:\n",
    "# idSys1 = PSID.PSID(yTrain.T, zTrain.T, nx=2, n1=2, i=10, time_first=False) "
   ]
  },
  {
   "cell_type": "markdown",
   "metadata": {},
   "source": [
    "The PSID learning function returns an object (here idSys1) that contains the learned model parameters and can be used to extract the latent states and decode behavior in new data. To do this, we use the 'predict' method in the learned model:"
   ]
  },
  {
   "cell_type": "code",
   "execution_count": 6,
   "metadata": {},
   "outputs": [
    {
     "name": "stdout",
     "output_type": "stream",
     "text": [
      "Behavior decoding CC:\n",
      "  PSID => 0.643, Ideal using true model => 0.643\n"
     ]
    }
   ],
   "source": [
    "# Predict behavior using the learned model\n",
    "zTestPred1, yTestPred1, xTestPred1 = idSys1.predict(yTest)\n",
    "\n",
    "# Compute CC of decoding\n",
    "CC = evalPrediction(zTest, zTestPred1, 'CC')\n",
    "\n",
    "# Predict behavior using the true model for comparison\n",
    "zTestPredIdeal, yTestPredIdeal, xTestPredIdeal = trueSys.predict(yTest)\n",
    "CCIdeal = evalPrediction(zTest, zTestPredIdeal, 'CC')\n",
    "\n",
    "print('Behavior decoding CC:\\n  PSID => {:.3g}, Ideal using true model => {:.3g}'.format(np.mean(CC), np.mean(CCIdeal)) )"
   ]
  },
  {
   "cell_type": "markdown",
   "metadata": {
    "id": "LfhHQ3hQKkeq"
   },
   "source": [
    "We can see that the PSID model with a 2D latent state is as accurate in explaining behavior as the full model that has a 4D latent state. This is because the other 2 latent state dimensions in the true model explain dynamics that are exclusive to neural activity (i.e. are not behaviorally relevant).\n",
    "\n",
    "Optionally, PSID can also learn other latent states beyond the behaviorally relevant ones. For this, we pass the arguments nx=4 and n1=2 to the PSID function:"
   ]
  },
  {
   "cell_type": "code",
   "execution_count": 7,
   "metadata": {
    "colab": {
     "base_uri": "https://localhost:8080/"
    },
    "id": "a2chTfdSKW5d",
    "outputId": "2ad2af37-c80b-4a1b-dfba-9039a56ce8e0"
   },
   "outputs": [
    {
     "name": "stdout",
     "output_type": "stream",
     "text": [
      "Neural self-prediction CC:\n",
      "  PSID => 0.852, Ideal using true model => 0.852\n"
     ]
    }
   ],
   "source": [
    "## (Example 2) Optionally, PSID can additionally also learn the \r\n",
    "# behaviorally irrelevant latent states (with nx = 4, n1 = 2)\r\n",
    "idSys2 = PSID.PSID(yTrain, zTrain, nx=4, n1=2, i=10)\r\n",
    "\r\n",
    "# In addition to ideal behavior decoding, this model will also have ideal neural self-prediction \r\n",
    "zTestPred2, yTestPred2, xTestPred2 = idSys2.predict(yTest)\r\n",
    "yCC2 = evalPrediction(yTest, yTestPred2, 'CC')\r\n",
    "yCCIdeal = evalPrediction(yTest, yTestPredIdeal, 'CC')\r\n",
    "print('Neural self-prediction CC:\\n  PSID => {:.3g}, Ideal using true model => {:.3g}'.format(np.mean(yCC2), np.mean(yCCIdeal)))"
   ]
  },
  {
   "cell_type": "markdown",
   "metadata": {
    "id": "LDvqwXjRLKgj"
   },
   "source": [
    "We can see that in this case, the model learned by PSID (which now has a 4D latent state) is also as good as the true model in terms of explaining neural activity. \n",
    "\n",
    "Finally, we can plot the eigenvalues of the $A$ matrix in each of the learned models and compare them with the eigenvalues of the $A$ matrix in the true model to see the accurate learning of behaviorally relevant (and optionally the other) dynamics by PSID. "
   ]
  },
  {
   "cell_type": "code",
   "execution_count": 8,
   "metadata": {
    "colab": {
     "base_uri": "https://localhost:8080/",
     "height": 281
    },
    "id": "rglPnehvLJ-2",
    "outputId": "57690508-4203-4361-bd15-25056eff6395"
   },
   "outputs": [
    {
     "data": {
      "image/png": "[encoded data removed]",
      "text/plain": [
       "<Figure size 576x288 with 1 Axes>"
      ]
     },
     "metadata": {
      "needs_background": "light"
     },
     "output_type": "display_data"
    }
   ],
   "source": [
    "# #########################################\r\n",
    "# Plot the true and identified eigenvalues    \r\n",
    "\r\n",
    "# (Example 1) Eigenvalues when only learning behaviorally relevant states\r\n",
    "idEigs1 = np.linalg.eig(idSys1.A)[0]\r\n",
    "\r\n",
    "# (Example 2) Additional eigenvalues when also learning behaviorally irrelevant states\r\n",
    "# The identified model is already in form of Eq. 4, with behaviorally irrelevant states \r\n",
    "# coming as the last 2 dimensions of the states in the identified model\r\n",
    "idEigs2 = np.linalg.eig(idSys2.A[2:, 2:])[0]\r\n",
    "\r\n",
    "relevantDims = trueSys.zDims - 1 # Dimensions that drive both behavior and neural activity\r\n",
    "irrelevantDims = [x for x in np.arange(trueSys.state_dim, dtype=int) if x not in relevantDims] # Dimensions that only drive the neural activity\r\n",
    "trueEigsRelevant = np.linalg.eig(trueSys.A[np.ix_(relevantDims, relevantDims)])[0]\r\n",
    "trueEigsIrrelevant = np.linalg.eig(trueSys.A[np.ix_(irrelevantDims, irrelevantDims)])[0]\r\n",
    "nonEncodedEigs = np.linalg.eig(data['epsSys']['a'])[0] # Eigenvalues for states that only drive behavior\r\n",
    "\r\n",
    "fig = plt.figure(figsize=(8, 4))\r\n",
    "axs = fig.subplots(1, 2)\r\n",
    "axs[1].remove() \r\n",
    "ax = axs[0]\r\n",
    "ax.axis('equal')\r\n",
    "ax.add_patch( patches.Circle((0,0), radius=1, fill=False, color='black', alpha=0.2, ls='-') )\r\n",
    "ax.plot([-1,1,0,0,0], [0,0,0,-1,1], color='black', alpha=0.2, ls='-')\r\n",
    "ax.scatter(np.real(nonEncodedEigs), np.imag(nonEncodedEigs), marker='o', edgecolors='#0000ff', facecolors='none', label='Not encoded in neural signals')\r\n",
    "ax.scatter(np.real(trueEigsIrrelevant), np.imag(trueEigsIrrelevant), marker='o', edgecolors='#ff0000', facecolors='none', label='Behaviorally irrelevant')\r\n",
    "ax.scatter(np.real(trueEigsRelevant), np.imag(trueEigsRelevant), marker='o', edgecolors='#00ff00', facecolors='none', label='Behaviorally relevant')\r\n",
    "ax.scatter(np.real(idEigs1), np.imag(idEigs1), marker='x', facecolors='#00aa00', label='PSID Identified (stage 1)')\r\n",
    "ax.scatter(np.real(idEigs2), np.imag(idEigs2), marker='x', facecolors='#aa0000', label='(optional) PSID Identified (stage 2)')\r\n",
    "ax.set_title('True and identified eigevalues')\r\n",
    "ax.legend(bbox_to_anchor=(1.04,0.5), loc=\"center left\", borderaxespad=0)\r\n",
    "plt.show()"
   ]
  },
  {
   "cell_type": "code",
   "execution_count": 9,
   "metadata": {},
   "outputs": [
    {
     "data": {
      "text/plain": [
       "array([0.89427676+0.23503259j, 0.89427676-0.23503259j])"
      ]
     },
     "execution_count": 9,
     "metadata": {},
     "output_type": "execute_result"
    }
   ],
   "source": [
    "np.linalg.eig(idSys1.A)[0]"
   ]
  },
  {
   "cell_type": "code",
   "execution_count": 10,
   "metadata": {},
   "outputs": [
    {
     "data": {
      "text/plain": [
       "array([[ 0.91720359, -0.21189825],\n",
       "       [ 0.26317329,  0.87134993]])"
      ]
     },
     "execution_count": 10,
     "metadata": {},
     "output_type": "execute_result"
    }
   ],
   "source": [
    "idSys1.A"
   ]
  },
  {
   "cell_type": "code",
   "execution_count": 11,
   "metadata": {},
   "outputs": [
    {
     "data": {
      "text/plain": [
       "array([[ 0.89348139,  0.23940762,  0.        ,  0.        ],\n",
       "       [-0.23940762,  0.89348139,  0.        ,  0.        ],\n",
       "       [ 0.        ,  0.        ,  0.        ,  0.94      ],\n",
       "       [ 0.        ,  0.        , -0.94      ,  0.        ]])"
      ]
     },
     "execution_count": 11,
     "metadata": {},
     "output_type": "execute_result"
    }
   ],
   "source": [
    "# np.set_printoptions(suppress=True)\n",
    "trueSys.A"
   ]
  },
  {
   "cell_type": "code",
   "execution_count": 12,
   "metadata": {},
   "outputs": [
    {
     "data": {
      "text/plain": [
       "array([[ 0.08951532, -0.0000517 ],\n",
       "       [-0.0000517 ,  0.06262359]])"
      ]
     },
     "execution_count": 12,
     "metadata": {},
     "output_type": "execute_result"
    }
   ],
   "source": [
    "idSys1.XCov"
   ]
  },
  {
   "cell_type": "code",
   "execution_count": 13,
   "metadata": {},
   "outputs": [
    {
     "data": {
      "text/plain": [
       "array([0.89427676+0.23503259j, 0.89427676-0.23503259j])"
      ]
     },
     "execution_count": 13,
     "metadata": {},
     "output_type": "execute_result"
    }
   ],
   "source": [
    "idEigs1"
   ]
  },
  {
   "cell_type": "markdown",
   "metadata": {
    "id": "OIg0PhNeFcyj"
   },
   "source": [
    "# Using PSID with trial based data\n",
    "You can also use PSID if the data is available in separate chunks, for example across many trials. To do this, simply pass a python list with the data in each chunk/trial as the argument to PSID. The trials don't need to have the same number of samples either. \n",
    "\n",
    "Below is an example, where we break the same data as before in small chunks of random length, and then pass it to PSID."
   ]
  },
  {
   "cell_type": "code",
   "execution_count": 48,
   "metadata": {
    "colab": {
     "base_uri": "https://localhost:8080/"
    },
    "id": "-McGIeBhE90J",
    "outputId": "91fa16cf-aa58-4688-e695-5c675dd12886"
   },
   "outputs": [
    {
     "name": "stdout",
     "output_type": "stream",
     "text": [
      "Behavior decoding CC (trial-based learning/decoding):\n",
      "  PSID => 0.638, Ideal using true model = 0.638\n"
     ]
    }
   ],
   "source": [
    "## (Example 3) PSID can be used if data is available in discontinuous segments (e.g. different trials)\n",
    "# In this case, y and z data segments must be provided as elements of a list\n",
    "# Trials do not need to have the same number of samples\n",
    "# Here, for example assume that trials start at every 1000 samples.\n",
    "# And each each trial has a random length of 500 to 900 samples\n",
    "trialStartInds = np.arange(0, allYData.shape[0]-1000, 1000)\n",
    "trialDurRange = np.array([900, 900])\n",
    "trialDur = np.random.randint(low=trialDurRange[0], high=1+trialDurRange[1], size=trialStartInds.shape)\n",
    "trialInds = [trialStartInds[ti]+np.arange(trialDur[ti]) for ti in range(trialStartInds.size)] \n",
    "yTrials = [allYData[trialIndsThis, :] for trialIndsThis in trialInds] \n",
    "zTrials = [allZData[trialIndsThis, :] for trialIndsThis in trialInds] \n",
    "\n",
    "# Separate data into training and test data:\n",
    "trainInds = np.arange(np.round(0.5*len(yTrials)), dtype=int)\n",
    "testInds = np.arange(1+trainInds[-1], len(yTrials))\n",
    "yTrain = [yTrials[ti] for ti in trainInds]\n",
    "\n",
    "yTest = [yTrials[ti] for ti in testInds]\n",
    "zTrain = [zTrials[ti] for ti in trainInds]\n",
    "zTest = [zTrials[ti] for ti in testInds]\n",
    "\n",
    "idSys3 = PSID.PSID(yTrain, zTrain, nx=2, n1=2, i=10)\n",
    "\n",
    "for ti in range(len(yTest)):\n",
    "  zPredThis, yPredThis, xPredThis = idSys3.predict(yTest[ti])\n",
    "  zPredThisIdeal, yPredThisIdeal, xPredThisIdeal = trueSys.predict(yTest[ti])\n",
    "  if ti == 0:\n",
    "    zTestA = zTest[ti]\n",
    "    zPredA = zPredThis\n",
    "    zPredIdealA = zPredThisIdeal\n",
    "  else:\n",
    "    zTestA = np.concatenate( (zTestA, zTest[ti]), axis=0)\n",
    "    zPredA = np.concatenate( (zPredA, zPredThis), axis=0)\n",
    "    zPredIdealA = np.concatenate( (zPredIdealA, zPredThisIdeal), axis=0)\n",
    "\n",
    "CCTrialBased = evalPrediction(zTestA, zPredA, 'CC')\n",
    "CCTrialBasedIdeal = evalPrediction(zTestA, zPredIdealA, 'CC')\n",
    "\n",
    "print('Behavior decoding CC (trial-based learning/decoding):\\n  PSID => {:.3g}, Ideal using true model = {:.3g}'.format(np.mean(CCTrialBased), np.mean(CCTrialBasedIdeal)) )"
   ]
  },
  {
   "cell_type": "code",
   "execution_count": 50,
   "metadata": {},
   "outputs": [
    {
     "data": {
      "text/plain": [
       "array([[ 0.91797074, -0.21138171],\n",
       "       [ 0.26162843,  0.87249507]])"
      ]
     },
     "execution_count": 50,
     "metadata": {},
     "output_type": "execute_result"
    }
   ],
   "source": [
    "idSys3.A"
   ]
  },
  {
   "cell_type": "code",
   "execution_count": 23,
   "metadata": {},
   "outputs": [
    {
     "data": {
      "text/plain": [
       "array([[ 0.91797074, -0.21138171],\n",
       "       [ 0.26162843,  0.87249507]])"
      ]
     },
     "execution_count": 23,
     "metadata": {},
     "output_type": "execute_result"
    }
   ],
   "source": [
    "idSys3.A"
   ]
  },
  {
   "cell_type": "code",
   "execution_count": null,
   "metadata": {},
   "outputs": [],
   "source": [
    "random.seed(31)\n",
    "# random.sample(Y, len(Y))  \n",
    "Y = list(smoothed_train_rates) \n",
    "# Y = random.sample(Y, len(Y)) "
   ]
  },
  {
   "cell_type": "markdown",
   "metadata": {},
   "source": [
    "# How to pick the state dimensions `nx` and `n1`?\n",
    "`nx` determines the total dimension of the latent state and `n1` determines how many of those dimensions will be prioritizing the inclusion of behaviorally relevant neural dynamcis (i.e. will be extracted using stage 1 of PSID). So the values that you would select for these hyperparameters depend on the goal of modeling and on the data. Some examples use cases are:\n",
    "- If you want to perform dimension reduction, `nx` will be your desired target dimension. For example, to reduce dimension to 2 to plot low-dimensional visualizations of neural activity, you would use `nx=2`. Now if you want to reduce dimension while preservising as much behaviorally relevant neural dynamics as possible, you would use `n1=nx`. \n",
    "- If you want to find the best fit to data overall, you can perform a grid search over values of `nx` and `n1` and pick the value that achieves the best performance metric in the training data. For exmaple, you could pick the `nx` and `n1` pair that achieves the best cross-validated behavior decoding in an inner-cross-validation within the training data.\n",
    "\n",
    "# How to pick the horizon `i`?\n",
    "The horizon `i` does not affect the model structure and only affects the intermediate linear algebra operations that PSID performs during the learning of the model. Nevertheless, different values of `i` may have different model learning performance. `i` needs to be at least 2, but also also determines the maximum `n1` and `nx` that can be used per: \n",
    "```\n",
    "n1 <= nz * i\n",
    "nx <= ny * i\n",
    "```\n",
    "So if you have a low dimensional y or z, you typically would choose larger values for `i`, and vice versa. It is also possible to select the best performing `i` via an inner cross-validation approach similar to `nx` and `n1` above."
   ]
  },
  {
   "cell_type": "markdown",
   "metadata": {},
   "source": [
    "# Licence\n",
    "Copyright (c) 2020 University of Southern California  \n",
    "See full notice in [LICENSE.md](https://github.com/ShanechiLab/PyPSID/blob/main/LICENSE.md)  \n",
    "Omid G. Sani and Maryam M. Shanechi  \n",
    "Shanechi Lab, University of Southern California"
   ]
  },
  {
   "cell_type": "code",
   "execution_count": null,
   "metadata": {},
   "outputs": [],
   "source": []
  },
  {
   "cell_type": "code",
   "execution_count": null,
   "metadata": {},
   "outputs": [],
   "source": []
  },
  {
   "cell_type": "code",
   "execution_count": null,
   "metadata": {},
   "outputs": [],
   "source": []
  }
 ],
 "metadata": {
  "colab": {
   "collapsed_sections": [],
   "name": "PSID_example.ipynb",
   "provenance": [],
   "toc_visible": true
  },
  "kernelspec": {
   "display_name": "Python [conda env:pytorch3d_update] *",
   "language": "python",
   "name": "conda-env-pytorch3d_update-py"
  },
  "language_info": {
   "codemirror_mode": {
    "name": "ipython",
    "version": 3
   },
   "file_extension": ".py",
   "mimetype": "text/x-python",
   "name": "python",
   "nbconvert_exporter": "python",
   "pygments_lexer": "ipython3",
   "version": "3.8.5"
  }
 },
 "nbformat": 4,
 "nbformat_minor": 4
}
